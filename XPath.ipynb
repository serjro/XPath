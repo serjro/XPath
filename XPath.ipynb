{
 "cells": [
  {
   "cell_type": "code",
   "execution_count": 1,
   "id": "17f4ddfc",
   "metadata": {},
   "outputs": [],
   "source": [
    "from lxml import html\n",
    "import requests"
   ]
  },
  {
   "cell_type": "code",
   "execution_count": 2,
   "id": "a3ac81db",
   "metadata": {},
   "outputs": [],
   "source": [
    "header = {'User-Agent':'Mozilla/5.0 (Windows NT 10.0; Win64; x64) AppleWebKit/537.36 (KHTML, like Gecko) Chrome/79.0.3945.130 Safari/537.36'}\n",
    "main_link = 'https://www.lenta.ru'"
   ]
  },
  {
   "cell_type": "code",
   "execution_count": 3,
   "id": "05c78d0b",
   "metadata": {},
   "outputs": [],
   "source": [
    "response = requests.get(main_link,header)\n",
    "root = html.fromstring(response.text)"
   ]
  },
  {
   "cell_type": "code",
   "execution_count": 4,
   "id": "3f879d22",
   "metadata": {},
   "outputs": [],
   "source": [
    "all_news = root.xpath(\"//div[@class='item']\")"
   ]
  },
  {
   "cell_type": "code",
   "execution_count": 5,
   "id": "4512469c",
   "metadata": {},
   "outputs": [
    {
     "name": "stdout",
     "output_type": "stream",
     "text": [
      "Lenta.ru:  15:51, 16 октября 2021 Москвичам рассказали о последнем «всплеске тепла» осенью \n",
      " https://www.lenta.ru/news/2021/10/16/teplo/\n",
      "Lenta.ru:  15:48, 16 октября 2021 Семиклассница спасла тонущего ребенка в Подмосковье  \n",
      " https://www.lenta.ruhttps://moslenta.ru/news/semiklassnica-spasla-tonushego-rebenka-v-podmoskove-16-10-2021.htm/?utm_source=from_lenta\n",
      "Lenta.ru:  15:46, 16 октября 2021 В ОБСЕ пообещали содействовать освобождению захваченного Киевом офицера ЛНР \n",
      " https://www.lenta.ru/news/2021/10/16/obse_promise/\n",
      "Lenta.ru:  15:41, 16 октября 2021 В Санкт-Петербурге росгвардейцы со стрельбой задержали пьяных дебоширов \n",
      " https://www.lenta.ru/news/2021/10/16/strelba/\n",
      "Lenta.ru:  15:27, 16 октября 2021 Российские военные получат очки дополненной реальности \n",
      " https://www.lenta.ru/news/2021/10/16/glasses/\n",
      "Lenta.ru:  15:27, 16 октября 2021 В российской школе произошло массовое отравление детей \n",
      " https://www.lenta.ru/news/2021/10/16/mass/\n",
      "Lenta.ru:  15:19, 16 октября 2021 Передавший видео пыток в саратовской колонии попросит убежища во Франции \n",
      " https://www.lenta.ru/news/2021/10/16/parisparis/\n",
      "Lenta.ru:  14:28, 16 октября 2021 Скоростной поезд «Сапсан» сбил коляску с младенцем \n",
      " https://www.lenta.ru/news/2021/10/16/sapsan/\n",
      "Lenta.ru:  13:36, 16 октября 2021 Голикова заявила о запуске счетчика вакцинации от COVID-19 \n",
      " https://www.lenta.ru/news/2021/10/16/golikova/\n",
      "Lenta.ru: [Без даты] ФСИН заявила о взятии под контроль ситуации в колонии Владикавказа после бунта \n",
      " https://www.lenta.ru/news/2021/10/16/control/\n",
      "Lenta.ru: [Без даты] Новак предупредил о возможности повторения энергокризиса в Европе \n",
      " https://www.lenta.ru/news/2021/10/16/novakkk/\n",
      "Lenta.ru: [Без даты] В России создадут ПДД для электросамокатов \n",
      " https://www.lenta.ru/news/2021/10/16/pdd/\n",
      "Lenta.ru: [Без даты] Президент Сербии захотел сниженных цен на российский газ \n",
      " https://www.lenta.ru/news/2021/10/16/zahotel/\n",
      "Lenta.ru: [Без даты] В НАСА раскрыли подробности инцидента с потерей ориентации на МКС \n",
      " https://www.lenta.ru/news/2021/10/16/ekipazh/\n",
      "Lenta.ru: [Без даты] Суточные объемы транзита газа через Украину упали почти вдвое \n",
      " https://www.lenta.ru/news/2021/10/16/gas/\n",
      "Lenta.ru: [Без даты] Раскрыта реакция Пентагона на инцидент с эсминцем ВМС США у границ России \n",
      " https://www.lenta.ru/news/2021/10/16/pentagon/\n",
      "Lenta.ru: [Без даты] ВМС США ответили на заявление России по инциденту с эсминцем в Японском море \n",
      " https://www.lenta.ru/news/2021/10/16/reaction/\n",
      "Lenta.ru: [Без даты] Раскрыт источник тревоги и одиночества миллионов людей  \n",
      " https://www.lenta.ru/extlink/2021/10/11/algo1/\n",
      "Lenta.ru: [Без даты] Названы самые популярные профессии будущего  \n",
      " https://www.lenta.ru/extlink/2021/10/11/job/\n"
     ]
    }
   ],
   "source": [
    "for news in all_news:\n",
    "    href = ''.join(news.xpath(\".//a/@href\"))\n",
    "    text = ''.join(news.xpath(\".//a/text()\"))\n",
    "    time = ''.join(news.xpath(\".//time/@datetime\"))\n",
    "    if len(time)==0: time=\"[Без даты]\"\n",
    "\n",
    "    print(\"Lenta.ru:\",time,text,\"\\n\",main_link+href)"
   ]
  }
 ],
 "metadata": {
  "kernelspec": {
   "display_name": "Python 3",
   "language": "python",
   "name": "python3"
  },
  "language_info": {
   "codemirror_mode": {
    "name": "ipython",
    "version": 3
   },
   "file_extension": ".py",
   "mimetype": "text/x-python",
   "name": "python",
   "nbconvert_exporter": "python",
   "pygments_lexer": "ipython3",
   "version": "3.8.8"
  }
 },
 "nbformat": 4,
 "nbformat_minor": 5
}
